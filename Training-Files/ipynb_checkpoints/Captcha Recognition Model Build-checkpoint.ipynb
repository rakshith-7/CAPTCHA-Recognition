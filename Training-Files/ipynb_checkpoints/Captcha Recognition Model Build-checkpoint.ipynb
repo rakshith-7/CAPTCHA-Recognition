{
 "cells": [
  {
   "cell_type": "markdown",
   "metadata": {},
   "source": [
    "# Building model for Captcha Recognition"
   ]
  },
  {
   "cell_type": "markdown",
   "metadata": {},
   "source": [
    "## Importing Libraries"
   ]
  },
  {
   "cell_type": "code",
   "execution_count": 1,
   "metadata": {
    "_cell_guid": "b1076dfc-b9ad-4769-8c92-a6c4dae69d19",
    "_uuid": "8f2839f25d086af736a60e9eeb907d3b93b6e0e5"
   },
   "outputs": [],
   "source": [
    "import numpy as np \n",
    "import pandas as pd \n",
    "%matplotlib inline \n",
    "import matplotlib.pyplot as plt\n",
    "import os"
   ]
  },
  {
   "cell_type": "markdown",
   "metadata": {},
   "source": [
    "## Importing Keras Library "
   ]
  },
  {
   "cell_type": "code",
   "execution_count": 2,
   "metadata": {
    "_uuid": "1fdd3e1588206ff8c65ec7cf8ac41c5360a5c00a"
   },
   "outputs": [],
   "source": [
    "from keras import layers\n",
    "from keras.models import Model\n",
    "from keras.models import load_model\n",
    "from keras import callbacks\n",
    "import os\n",
    "import cv2\n",
    "import string\n",
    "import numpy as np"
   ]
  },
  {
   "cell_type": "code",
   "execution_count": null,
   "metadata": {},
   "outputs": [],
   "source": [
    "#Init main values\n",
    "symbols = string.ascii_lowercase + \"0123456789\" # All symbols captcha can contain\n",
    "num_symbols = len(symbols)\n",
    "img_shape = (50, 200, 1)"
   ]
  },
  {
   "cell_type": "code",
   "execution_count": 3,
   "metadata": {},
   "outputs": [
    {
     "name": "stdout",
     "output_type": "stream",
     "text": [
      "abcdefghijklmnopqrstuvwxyz0123456789\n"
     ]
    }
   ],
   "source": [
    "# Initializing the alphanumeric values \n",
    "print(symbols)"
   ]
  },
  {
   "cell_type": "code",
   "execution_count": 4,
   "metadata": {
    "_uuid": "a84cb6138839a96688013722a585658859150dd8"
   },
   "outputs": [
    {
     "name": "stdout",
     "output_type": "stream",
     "text": [
      "36\n"
     ]
    }
   ],
   "source": [
    "# Total count of alphanumeric values \n",
    "print(num_symbols)"
   ]
  },
  {
   "cell_type": "markdown",
   "metadata": {},
   "source": [
    "## Building Model "
   ]
  },
  {
   "cell_type": "code",
   "execution_count": 5,
   "metadata": {
    "_uuid": "46c8b77c16307b91a561dd2b3c82d894063671b8"
   },
   "outputs": [],
   "source": [
    "def create_model():\n",
    "    # defining the shape of image\n",
    "    img = layers.Input(shape=img_shape) \n",
    "    # building first convolution & pooling layer\n",
    "    convolution1 = layers.Conv2D(16, (3, 3), padding='same', activation='relu')(img)\n",
    "    maxpool1 = layers.MaxPooling2D(padding='same')(convolution1)  \n",
    "    \n",
    "    convolution2 = layers.Conv2D(32, (3, 3), padding='same', activation='relu')(maxpool1)\n",
    "    maxpool2 = layers.MaxPooling2D(padding='same')(convolution2)  \n",
    "    \n",
    "    convolution3 = layers.Conv2D(32, (3, 3), padding='same', activation='relu')(maxpool2)\n",
    "    btc_nml = layers.BatchNormalization()(convolution3)\n",
    "    \n",
    "    maxpool3 = layers.MaxPooling2D(padding='same')(btc_nml)   \n",
    "    flat = layers.Flatten()(maxpool3)\n",
    "    \n",
    "    outs = []\n",
    "    for _ in range(5):\n",
    "        dens1 = layers.Dense(64, activation='relu')(flat)\n",
    "        drop = layers.Dropout(0.5)(dens1)\n",
    "        res = layers.Dense(num_symbols, activation='sigmoid')(drop)\n",
    "        outs.append(res)\n",
    "    \n",
    "    model = Model(img, outs)\n",
    "    model.compile(loss='categorical_crossentropy', optimizer='adam',metrics=[\"accuracy\"])\n",
    "    return model"
   ]
  },
  {
   "cell_type": "code",
   "execution_count": 6,
   "metadata": {
    "_uuid": "4dccb0ee2eb679f4b7e7d1a92b52d643ac02ff3e"
   },
   "outputs": [],
   "source": [
    "def preprocess_data():\n",
    "    n_samples = len(os.listdir('../Database/Data'))\n",
    "    X = np.zeros((n_samples, 50, 200, 1)) \n",
    "    y = np.zeros((5, n_samples, num_symbols)) \n",
    "\n",
    "    for i, pic in enumerate(os.listdir('../Database/Data')):\n",
    "        # Reading image in grayscale format\n",
    "        img = cv2.imread(os.path.join('../Database/Data', pic), cv2.IMREAD_GRAYSCALE)\n",
    "        pic_target = pic[:-4]\n",
    "        if len(pic_target) < 6:\n",
    "            # Reshaping Image\n",
    "            img = img / 255.0\n",
    "            img = np.reshape(img, (50, 200, 1))\n",
    "            # Enable One Hot Encoding and define outcomes\n",
    "            targs = np.zeros((5, num_symbols))\n",
    "            for j, l in enumerate(pic_target):\n",
    "                ind = symbols.find(l)\n",
    "                targs[j, ind] = 1\n",
    "            X[i] = img\n",
    "            y[:, i] = targs\n",
    "    \n",
    "    # Return final data\n",
    "    return X, y\n",
    "\n",
    "X, y = preprocess_data()\n",
    "X_train, y_train = X[:970], y[:, :970]\n",
    "X_test, y_test = X[970:], y[:, 970:]"
   ]
  },
  {
   "cell_type": "markdown",
   "metadata": {},
   "source": [
    "## Summary Of Model Built"
   ]
  },
  {
   "cell_type": "code",
   "execution_count": 7,
   "metadata": {
    "_uuid": "834999810cccd5d867f87b26b4b6e89d87a3092f"
   },
   "outputs": [
    {
     "name": "stdout",
     "output_type": "stream",
     "text": [
      "__________________________________________________________________________________________________\n",
      "Layer (type)                    Output Shape         Param #     Connected to                     \n",
      "==================================================================================================\n",
      "input_1 (InputLayer)            (None, 50, 200, 1)   0                                            \n",
      "__________________________________________________________________________________________________\n",
      "conv2d_1 (Conv2D)               (None, 50, 200, 16)  160         input_1[0][0]                    \n",
      "__________________________________________________________________________________________________\n",
      "max_pooling2d_1 (MaxPooling2D)  (None, 25, 100, 16)  0           conv2d_1[0][0]                   \n",
      "__________________________________________________________________________________________________\n",
      "conv2d_2 (Conv2D)               (None, 25, 100, 32)  4640        max_pooling2d_1[0][0]            \n",
      "__________________________________________________________________________________________________\n",
      "max_pooling2d_2 (MaxPooling2D)  (None, 13, 50, 32)   0           conv2d_2[0][0]                   \n",
      "__________________________________________________________________________________________________\n",
      "conv2d_3 (Conv2D)               (None, 13, 50, 32)   9248        max_pooling2d_2[0][0]            \n",
      "__________________________________________________________________________________________________\n",
      "batch_normalization_1 (BatchNor (None, 13, 50, 32)   128         conv2d_3[0][0]                   \n",
      "__________________________________________________________________________________________________\n",
      "max_pooling2d_3 (MaxPooling2D)  (None, 7, 25, 32)    0           batch_normalization_1[0][0]      \n",
      "__________________________________________________________________________________________________\n",
      "flatten_1 (Flatten)             (None, 5600)         0           max_pooling2d_3[0][0]            \n",
      "__________________________________________________________________________________________________\n",
      "dense_1 (Dense)                 (None, 64)           358464      flatten_1[0][0]                  \n",
      "__________________________________________________________________________________________________\n",
      "dense_3 (Dense)                 (None, 64)           358464      flatten_1[0][0]                  \n",
      "__________________________________________________________________________________________________\n",
      "dense_5 (Dense)                 (None, 64)           358464      flatten_1[0][0]                  \n",
      "__________________________________________________________________________________________________\n",
      "dense_7 (Dense)                 (None, 64)           358464      flatten_1[0][0]                  \n",
      "__________________________________________________________________________________________________\n",
      "dense_9 (Dense)                 (None, 64)           358464      flatten_1[0][0]                  \n",
      "__________________________________________________________________________________________________\n",
      "dropout_1 (Dropout)             (None, 64)           0           dense_1[0][0]                    \n",
      "__________________________________________________________________________________________________\n",
      "dropout_2 (Dropout)             (None, 64)           0           dense_3[0][0]                    \n",
      "__________________________________________________________________________________________________\n",
      "dropout_3 (Dropout)             (None, 64)           0           dense_5[0][0]                    \n",
      "__________________________________________________________________________________________________\n",
      "dropout_4 (Dropout)             (None, 64)           0           dense_7[0][0]                    \n",
      "__________________________________________________________________________________________________\n",
      "dropout_5 (Dropout)             (None, 64)           0           dense_9[0][0]                    \n",
      "__________________________________________________________________________________________________\n",
      "dense_2 (Dense)                 (None, 36)           2340        dropout_1[0][0]                  \n",
      "__________________________________________________________________________________________________\n",
      "dense_4 (Dense)                 (None, 36)           2340        dropout_2[0][0]                  \n",
      "__________________________________________________________________________________________________\n",
      "dense_6 (Dense)                 (None, 36)           2340        dropout_3[0][0]                  \n",
      "__________________________________________________________________________________________________\n",
      "dense_8 (Dense)                 (None, 36)           2340        dropout_4[0][0]                  \n",
      "__________________________________________________________________________________________________\n",
      "dense_10 (Dense)                (None, 36)           2340        dropout_5[0][0]                  \n",
      "==================================================================================================\n",
      "Total params: 1,818,196\n",
      "Trainable params: 1,818,132\n",
      "Non-trainable params: 64\n",
      "__________________________________________________________________________________________________\n"
     ]
    }
   ],
   "source": [
    "model=create_model();\n",
    "model.summary();"
   ]
  },
  {
   "cell_type": "markdown",
   "metadata": {},
   "source": [
    "## Fit the model by splitting them into Train Test"
   ]
  },
  {
   "cell_type": "code",
   "execution_count": 8,
   "metadata": {
    "_uuid": "e82754ff49c3cec708b87947c417566a252d3c12"
   },
   "outputs": [
    {
     "name": "stdout",
     "output_type": "stream",
     "text": [
      "Train on 776 samples, validate on 194 samples\n",
      "Epoch 1/30\n",
      "776/776 [==============================] - 6s 8ms/step - loss: 17.3322 - dense_2_loss: 3.4574 - dense_4_loss: 3.5796 - dense_6_loss: 3.3580 - dense_8_loss: 3.5161 - dense_10_loss: 3.4210 - dense_2_acc: 0.0619 - dense_4_acc: 0.0619 - dense_6_acc: 0.0644 - dense_8_acc: 0.0644 - dense_10_acc: 0.0580 - val_loss: 16.0325 - val_dense_2_loss: 3.0990 - val_dense_4_loss: 3.3664 - val_dense_6_loss: 3.0842 - val_dense_8_loss: 3.3058 - val_dense_10_loss: 3.1770 - val_dense_2_acc: 0.1031 - val_dense_4_acc: 0.1082 - val_dense_6_acc: 0.0361 - val_dense_8_acc: 0.1031 - val_dense_10_acc: 0.0567\n",
      "Epoch 2/30\n",
      "776/776 [==============================] - 1s 671us/step - loss: 16.3470 - dense_2_loss: 3.2185 - dense_4_loss: 3.3774 - dense_6_loss: 3.1871 - dense_8_loss: 3.3414 - dense_10_loss: 3.2225 - dense_2_acc: 0.0657 - dense_4_acc: 0.0889 - dense_6_acc: 0.0773 - dense_8_acc: 0.0696 - dense_10_acc: 0.0747 - val_loss: 15.7658 - val_dense_2_loss: 3.0772 - val_dense_4_loss: 3.2522 - val_dense_6_loss: 3.1120 - val_dense_8_loss: 3.2531 - val_dense_10_loss: 3.0713 - val_dense_2_acc: 0.1082 - val_dense_4_acc: 0.1082 - val_dense_6_acc: 0.0464 - val_dense_8_acc: 0.1082 - val_dense_10_acc: 0.0825\n",
      "Epoch 3/30\n",
      "776/776 [==============================] - 1s 662us/step - loss: 15.6798 - dense_2_loss: 3.0901 - dense_4_loss: 3.2558 - dense_6_loss: 3.0901 - dense_8_loss: 3.1612 - dense_10_loss: 3.0825 - dense_2_acc: 0.0812 - dense_4_acc: 0.0838 - dense_6_acc: 0.0683 - dense_8_acc: 0.0966 - dense_10_acc: 0.0799 - val_loss: 15.7953 - val_dense_2_loss: 3.1357 - val_dense_4_loss: 3.1915 - val_dense_6_loss: 3.1479 - val_dense_8_loss: 3.1819 - val_dense_10_loss: 3.1384 - val_dense_2_acc: 0.0825 - val_dense_4_acc: 0.0876 - val_dense_6_acc: 0.1031 - val_dense_8_acc: 0.1340 - val_dense_10_acc: 0.0928\n",
      "Epoch 4/30\n",
      "776/776 [==============================] - 0s 636us/step - loss: 15.1535 - dense_2_loss: 2.9929 - dense_4_loss: 3.1062 - dense_6_loss: 3.0289 - dense_8_loss: 3.0534 - dense_10_loss: 2.9721 - dense_2_acc: 0.0966 - dense_4_acc: 0.1031 - dense_6_acc: 0.0954 - dense_8_acc: 0.0902 - dense_10_acc: 0.0838 - val_loss: 16.0812 - val_dense_2_loss: 3.1315 - val_dense_4_loss: 3.0451 - val_dense_6_loss: 3.2265 - val_dense_8_loss: 3.3864 - val_dense_10_loss: 3.2917 - val_dense_2_acc: 0.1031 - val_dense_4_acc: 0.0979 - val_dense_6_acc: 0.0722 - val_dense_8_acc: 0.0619 - val_dense_10_acc: 0.1237\n",
      "Epoch 5/30\n",
      "776/776 [==============================] - 1s 662us/step - loss: 14.5573 - dense_2_loss: 2.8358 - dense_4_loss: 2.9281 - dense_6_loss: 2.9149 - dense_8_loss: 2.9616 - dense_10_loss: 2.9169 - dense_2_acc: 0.1237 - dense_4_acc: 0.0915 - dense_6_acc: 0.0889 - dense_8_acc: 0.0851 - dense_10_acc: 0.0889 - val_loss: 14.4803 - val_dense_2_loss: 2.7748 - val_dense_4_loss: 2.7747 - val_dense_6_loss: 2.9297 - val_dense_8_loss: 2.9709 - val_dense_10_loss: 3.0301 - val_dense_2_acc: 0.1598 - val_dense_4_acc: 0.1649 - val_dense_6_acc: 0.1598 - val_dense_8_acc: 0.1237 - val_dense_10_acc: 0.0979\n",
      "Epoch 6/30\n",
      "776/776 [==============================] - 0s 628us/step - loss: 14.1763 - dense_2_loss: 2.7696 - dense_4_loss: 2.8598 - dense_6_loss: 2.8560 - dense_8_loss: 2.8757 - dense_10_loss: 2.8152 - dense_2_acc: 0.1250 - dense_4_acc: 0.1211 - dense_6_acc: 0.1134 - dense_8_acc: 0.1057 - dense_10_acc: 0.1108 - val_loss: 13.7650 - val_dense_2_loss: 2.6176 - val_dense_4_loss: 2.6921 - val_dense_6_loss: 2.7822 - val_dense_8_loss: 2.8110 - val_dense_10_loss: 2.8621 - val_dense_2_acc: 0.1753 - val_dense_4_acc: 0.2010 - val_dense_6_acc: 0.1495 - val_dense_8_acc: 0.1340 - val_dense_10_acc: 0.1546\n",
      "Epoch 7/30\n",
      "776/776 [==============================] - 0s 639us/step - loss: 13.7747 - dense_2_loss: 2.6639 - dense_4_loss: 2.7674 - dense_6_loss: 2.7818 - dense_8_loss: 2.8248 - dense_10_loss: 2.7367 - dense_2_acc: 0.1482 - dense_4_acc: 0.1147 - dense_6_acc: 0.1314 - dense_8_acc: 0.1121 - dense_10_acc: 0.1211 - val_loss: 12.8284 - val_dense_2_loss: 2.3328 - val_dense_4_loss: 2.5390 - val_dense_6_loss: 2.6641 - val_dense_8_loss: 2.6658 - val_dense_10_loss: 2.6268 - val_dense_2_acc: 0.1804 - val_dense_4_acc: 0.1546 - val_dense_6_acc: 0.1701 - val_dense_8_acc: 0.1031 - val_dense_10_acc: 0.1082\n",
      "Epoch 8/30\n",
      "776/776 [==============================] - 0s 635us/step - loss: 13.2261 - dense_2_loss: 2.4906 - dense_4_loss: 2.6456 - dense_6_loss: 2.7063 - dense_8_loss: 2.6996 - dense_10_loss: 2.6839 - dense_2_acc: 0.1817 - dense_4_acc: 0.1508 - dense_6_acc: 0.1585 - dense_8_acc: 0.1314 - dense_10_acc: 0.1508 - val_loss: 12.1432 - val_dense_2_loss: 2.0722 - val_dense_4_loss: 2.4668 - val_dense_6_loss: 2.5356 - val_dense_8_loss: 2.5751 - val_dense_10_loss: 2.4935 - val_dense_2_acc: 0.2938 - val_dense_4_acc: 0.1392 - val_dense_6_acc: 0.2165 - val_dense_8_acc: 0.1186 - val_dense_10_acc: 0.1546\n",
      "Epoch 9/30\n",
      "776/776 [==============================] - 1s 675us/step - loss: 12.6071 - dense_2_loss: 2.3069 - dense_4_loss: 2.5862 - dense_6_loss: 2.5892 - dense_8_loss: 2.6125 - dense_10_loss: 2.5123 - dense_2_acc: 0.1469 - dense_4_acc: 0.1598 - dense_6_acc: 0.1920 - dense_8_acc: 0.1508 - dense_10_acc: 0.1714 - val_loss: 11.3676 - val_dense_2_loss: 1.8543 - val_dense_4_loss: 2.4360 - val_dense_6_loss: 2.3016 - val_dense_8_loss: 2.3994 - val_dense_10_loss: 2.3762 - val_dense_2_acc: 0.2784 - val_dense_4_acc: 0.1186 - val_dense_6_acc: 0.2474 - val_dense_8_acc: 0.1443 - val_dense_10_acc: 0.1701\n",
      "Epoch 10/30\n",
      "776/776 [==============================] - 0s 635us/step - loss: 11.8657 - dense_2_loss: 2.1762 - dense_4_loss: 2.4417 - dense_6_loss: 2.3783 - dense_8_loss: 2.4674 - dense_10_loss: 2.4020 - dense_2_acc: 0.2178 - dense_4_acc: 0.1572 - dense_6_acc: 0.2590 - dense_8_acc: 0.1443 - dense_10_acc: 0.2126 - val_loss: 10.6096 - val_dense_2_loss: 1.7953 - val_dense_4_loss: 2.2165 - val_dense_6_loss: 2.1573 - val_dense_8_loss: 2.2544 - val_dense_10_loss: 2.1861 - val_dense_2_acc: 0.4485 - val_dense_4_acc: 0.1237 - val_dense_6_acc: 0.4433 - val_dense_8_acc: 0.1392 - val_dense_10_acc: 0.2268\n",
      "Epoch 11/30\n",
      "776/776 [==============================] - 1s 706us/step - loss: 11.1195 - dense_2_loss: 1.9048 - dense_4_loss: 2.3176 - dense_6_loss: 2.2703 - dense_8_loss: 2.3544 - dense_10_loss: 2.2723 - dense_2_acc: 0.2668 - dense_4_acc: 0.1856 - dense_6_acc: 0.2977 - dense_8_acc: 0.1753 - dense_10_acc: 0.2204 - val_loss: 8.8993 - val_dense_2_loss: 1.2811 - val_dense_4_loss: 1.9223 - val_dense_6_loss: 1.6733 - val_dense_8_loss: 2.0181 - val_dense_10_loss: 2.0045 - val_dense_2_acc: 0.5979 - val_dense_4_acc: 0.1804 - val_dense_6_acc: 0.4639 - val_dense_8_acc: 0.1856 - val_dense_10_acc: 0.3144\n",
      "Epoch 12/30\n",
      "776/776 [==============================] - 0s 630us/step - loss: 10.1892 - dense_2_loss: 1.7345 - dense_4_loss: 2.1553 - dense_6_loss: 2.0049 - dense_8_loss: 2.1858 - dense_10_loss: 2.1087 - dense_2_acc: 0.3466 - dense_4_acc: 0.2320 - dense_6_acc: 0.3557 - dense_8_acc: 0.2062 - dense_10_acc: 0.2680 - val_loss: 7.4717 - val_dense_2_loss: 0.8577 - val_dense_4_loss: 1.5859 - val_dense_6_loss: 1.5366 - val_dense_8_loss: 1.7218 - val_dense_10_loss: 1.7697 - val_dense_2_acc: 0.8247 - val_dense_4_acc: 0.1907 - val_dense_6_acc: 0.4691 - val_dense_8_acc: 0.2784 - val_dense_10_acc: 0.3918\n",
      "Epoch 13/30\n",
      "776/776 [==============================] - 0s 599us/step - loss: 9.2136 - dense_2_loss: 1.5892 - dense_4_loss: 1.9621 - dense_6_loss: 1.8363 - dense_8_loss: 1.9376 - dense_10_loss: 1.8884 - dense_2_acc: 0.4175 - dense_4_acc: 0.2784 - dense_6_acc: 0.3943 - dense_8_acc: 0.3286 - dense_10_acc: 0.3595 - val_loss: 5.8417 - val_dense_2_loss: 0.5473 - val_dense_4_loss: 1.2256 - val_dense_6_loss: 1.2258 - val_dense_8_loss: 1.4792 - val_dense_10_loss: 1.3637 - val_dense_2_acc: 0.8557 - val_dense_4_acc: 0.3711 - val_dense_6_acc: 0.5361 - val_dense_8_acc: 0.4897 - val_dense_10_acc: 0.4381\n",
      "Epoch 14/30\n",
      "776/776 [==============================] - 0s 608us/step - loss: 8.0302 - dense_2_loss: 1.2985 - dense_4_loss: 1.7723 - dense_6_loss: 1.5650 - dense_8_loss: 1.6796 - dense_10_loss: 1.7148 - dense_2_acc: 0.5232 - dense_4_acc: 0.3930 - dense_6_acc: 0.4768 - dense_8_acc: 0.4549 - dense_10_acc: 0.4188 - val_loss: 4.6664 - val_dense_2_loss: 0.3501 - val_dense_4_loss: 1.1217 - val_dense_6_loss: 0.9029 - val_dense_8_loss: 1.1148 - val_dense_10_loss: 1.1769 - val_dense_2_acc: 0.9485 - val_dense_4_acc: 0.5464 - val_dense_6_acc: 0.6546 - val_dense_8_acc: 0.6753 - val_dense_10_acc: 0.5000\n"
     ]
    },
    {
     "name": "stdout",
     "output_type": "stream",
     "text": [
      "Epoch 15/30\n",
      "776/776 [==============================] - 0s 635us/step - loss: 7.0026 - dense_2_loss: 1.1319 - dense_4_loss: 1.4834 - dense_6_loss: 1.4002 - dense_8_loss: 1.4606 - dense_10_loss: 1.5265 - dense_2_acc: 0.5889 - dense_4_acc: 0.4716 - dense_6_acc: 0.5219 - dense_8_acc: 0.5155 - dense_10_acc: 0.4794 - val_loss: 4.2143 - val_dense_2_loss: 0.3787 - val_dense_4_loss: 0.7341 - val_dense_6_loss: 0.8618 - val_dense_8_loss: 1.0402 - val_dense_10_loss: 1.1996 - val_dense_2_acc: 0.9124 - val_dense_4_acc: 0.8196 - val_dense_6_acc: 0.6907 - val_dense_8_acc: 0.6546 - val_dense_10_acc: 0.6340\n",
      "Epoch 16/30\n",
      "776/776 [==============================] - 0s 599us/step - loss: 6.0845 - dense_2_loss: 1.0223 - dense_4_loss: 1.3024 - dense_6_loss: 1.2084 - dense_8_loss: 1.2739 - dense_10_loss: 1.2775 - dense_2_acc: 0.6379 - dense_4_acc: 0.5683 - dense_6_acc: 0.5954 - dense_8_acc: 0.5773 - dense_10_acc: 0.5863 - val_loss: 3.0254 - val_dense_2_loss: 0.1682 - val_dense_4_loss: 0.4545 - val_dense_6_loss: 0.7330 - val_dense_8_loss: 0.8491 - val_dense_10_loss: 0.8207 - val_dense_2_acc: 0.9639 - val_dense_4_acc: 0.8918 - val_dense_6_acc: 0.7216 - val_dense_8_acc: 0.7216 - val_dense_10_acc: 0.7680\n",
      "Epoch 17/30\n",
      "776/776 [==============================] - 0s 614us/step - loss: 5.3179 - dense_2_loss: 0.8671 - dense_4_loss: 1.0541 - dense_6_loss: 1.1188 - dense_8_loss: 1.1542 - dense_10_loss: 1.1236 - dense_2_acc: 0.6894 - dense_4_acc: 0.6327 - dense_6_acc: 0.6366 - dense_8_acc: 0.6289 - dense_10_acc: 0.6250 - val_loss: 2.7745 - val_dense_2_loss: 0.1350 - val_dense_4_loss: 0.3058 - val_dense_6_loss: 0.6258 - val_dense_8_loss: 0.8594 - val_dense_10_loss: 0.8485 - val_dense_2_acc: 0.9536 - val_dense_4_acc: 0.9124 - val_dense_6_acc: 0.7835 - val_dense_8_acc: 0.7371 - val_dense_10_acc: 0.7371\n",
      "Epoch 18/30\n",
      "776/776 [==============================] - 0s 611us/step - loss: 4.5937 - dense_2_loss: 0.7813 - dense_4_loss: 0.8745 - dense_6_loss: 0.9541 - dense_8_loss: 0.9696 - dense_10_loss: 1.0142 - dense_2_acc: 0.7229 - dense_4_acc: 0.7062 - dense_6_acc: 0.6985 - dense_8_acc: 0.6843 - dense_10_acc: 0.6456 - val_loss: 2.2035 - val_dense_2_loss: 0.1056 - val_dense_4_loss: 0.2883 - val_dense_6_loss: 0.5144 - val_dense_8_loss: 0.6298 - val_dense_10_loss: 0.6653 - val_dense_2_acc: 0.9794 - val_dense_4_acc: 0.9433 - val_dense_6_acc: 0.8402 - val_dense_8_acc: 0.7887 - val_dense_10_acc: 0.8093\n",
      "Epoch 19/30\n",
      "776/776 [==============================] - 0s 611us/step - loss: 4.0069 - dense_2_loss: 0.6588 - dense_4_loss: 0.7497 - dense_6_loss: 0.8017 - dense_8_loss: 0.8905 - dense_10_loss: 0.9061 - dense_2_acc: 0.7745 - dense_4_acc: 0.7204 - dense_6_acc: 0.7307 - dense_8_acc: 0.7049 - dense_10_acc: 0.7088 - val_loss: 1.8363 - val_dense_2_loss: 0.0784 - val_dense_4_loss: 0.2193 - val_dense_6_loss: 0.4186 - val_dense_8_loss: 0.5453 - val_dense_10_loss: 0.5748 - val_dense_2_acc: 0.9742 - val_dense_4_acc: 0.9433 - val_dense_6_acc: 0.8454 - val_dense_8_acc: 0.8402 - val_dense_10_acc: 0.8299\n",
      "Epoch 20/30\n",
      "776/776 [==============================] - 0s 605us/step - loss: 3.6923 - dense_2_loss: 0.6144 - dense_4_loss: 0.7243 - dense_6_loss: 0.7880 - dense_8_loss: 0.7866 - dense_10_loss: 0.7789 - dense_2_acc: 0.7938 - dense_4_acc: 0.7371 - dense_6_acc: 0.7410 - dense_8_acc: 0.7448 - dense_10_acc: 0.7423 - val_loss: 1.9896 - val_dense_2_loss: 0.0752 - val_dense_4_loss: 0.2470 - val_dense_6_loss: 0.4064 - val_dense_8_loss: 0.6353 - val_dense_10_loss: 0.6257 - val_dense_2_acc: 0.9742 - val_dense_4_acc: 0.9330 - val_dense_6_acc: 0.8505 - val_dense_8_acc: 0.8093 - val_dense_10_acc: 0.8299\n",
      "Epoch 21/30\n",
      "776/776 [==============================] - 1s 866us/step - loss: 3.0942 - dense_2_loss: 0.5236 - dense_4_loss: 0.5586 - dense_6_loss: 0.6291 - dense_8_loss: 0.6558 - dense_10_loss: 0.7271 - dense_2_acc: 0.8183 - dense_4_acc: 0.8054 - dense_6_acc: 0.7835 - dense_8_acc: 0.7822 - dense_10_acc: 0.7642 - val_loss: 1.9314 - val_dense_2_loss: 0.1032 - val_dense_4_loss: 0.2062 - val_dense_6_loss: 0.4461 - val_dense_8_loss: 0.5811 - val_dense_10_loss: 0.5948 - val_dense_2_acc: 0.9742 - val_dense_4_acc: 0.9433 - val_dense_6_acc: 0.8351 - val_dense_8_acc: 0.8196 - val_dense_10_acc: 0.8351\n",
      "Epoch 22/30\n",
      "776/776 [==============================] - 0s 637us/step - loss: 2.8495 - dense_2_loss: 0.5132 - dense_4_loss: 0.5788 - dense_6_loss: 0.5706 - dense_8_loss: 0.5724 - dense_10_loss: 0.6145 - dense_2_acc: 0.8028 - dense_4_acc: 0.7822 - dense_6_acc: 0.8209 - dense_8_acc: 0.8080 - dense_10_acc: 0.7784 - val_loss: 1.6685 - val_dense_2_loss: 0.1063 - val_dense_4_loss: 0.2119 - val_dense_6_loss: 0.4164 - val_dense_8_loss: 0.5655 - val_dense_10_loss: 0.3683 - val_dense_2_acc: 0.9639 - val_dense_4_acc: 0.9433 - val_dense_6_acc: 0.8763 - val_dense_8_acc: 0.8196 - val_dense_10_acc: 0.9021\n",
      "Epoch 23/30\n",
      "776/776 [==============================] - 0s 627us/step - loss: 2.5803 - dense_2_loss: 0.4390 - dense_4_loss: 0.5262 - dense_6_loss: 0.5744 - dense_8_loss: 0.5224 - dense_10_loss: 0.5184 - dense_2_acc: 0.8454 - dense_4_acc: 0.8209 - dense_6_acc: 0.8106 - dense_8_acc: 0.8299 - dense_10_acc: 0.8106 - val_loss: 1.6851 - val_dense_2_loss: 0.0829 - val_dense_4_loss: 0.1807 - val_dense_6_loss: 0.3781 - val_dense_8_loss: 0.4837 - val_dense_10_loss: 0.5597 - val_dense_2_acc: 0.9794 - val_dense_4_acc: 0.9536 - val_dense_6_acc: 0.8814 - val_dense_8_acc: 0.8557 - val_dense_10_acc: 0.8608\n",
      "Epoch 24/30\n",
      "776/776 [==============================] - 0s 630us/step - loss: 2.5917 - dense_2_loss: 0.4406 - dense_4_loss: 0.5589 - dense_6_loss: 0.5265 - dense_8_loss: 0.5239 - dense_10_loss: 0.5419 - dense_2_acc: 0.8325 - dense_4_acc: 0.7964 - dense_6_acc: 0.8170 - dense_8_acc: 0.8363 - dense_10_acc: 0.8247 - val_loss: 1.7091 - val_dense_2_loss: 0.0505 - val_dense_4_loss: 0.1670 - val_dense_6_loss: 0.4331 - val_dense_8_loss: 0.5192 - val_dense_10_loss: 0.5394 - val_dense_2_acc: 0.9845 - val_dense_4_acc: 0.9588 - val_dense_6_acc: 0.8814 - val_dense_8_acc: 0.8660 - val_dense_10_acc: 0.8557\n",
      "Epoch 25/30\n",
      "776/776 [==============================] - 0s 625us/step - loss: 2.2501 - dense_2_loss: 0.3196 - dense_4_loss: 0.4546 - dense_6_loss: 0.4773 - dense_8_loss: 0.4662 - dense_10_loss: 0.5325 - dense_2_acc: 0.8789 - dense_4_acc: 0.8286 - dense_6_acc: 0.8325 - dense_8_acc: 0.8466 - dense_10_acc: 0.8054 - val_loss: 1.4085 - val_dense_2_loss: 0.0434 - val_dense_4_loss: 0.1404 - val_dense_6_loss: 0.3437 - val_dense_8_loss: 0.5359 - val_dense_10_loss: 0.3451 - val_dense_2_acc: 0.9948 - val_dense_4_acc: 0.9691 - val_dense_6_acc: 0.8763 - val_dense_8_acc: 0.8505 - val_dense_10_acc: 0.8918\n",
      "Epoch 26/30\n",
      "776/776 [==============================] - 0s 624us/step - loss: 2.0720 - dense_2_loss: 0.3413 - dense_4_loss: 0.4343 - dense_6_loss: 0.4039 - dense_8_loss: 0.4422 - dense_10_loss: 0.4503 - dense_2_acc: 0.8814 - dense_4_acc: 0.8389 - dense_6_acc: 0.8570 - dense_8_acc: 0.8518 - dense_10_acc: 0.8454 - val_loss: 1.5052 - val_dense_2_loss: 0.0586 - val_dense_4_loss: 0.1660 - val_dense_6_loss: 0.3264 - val_dense_8_loss: 0.5543 - val_dense_10_loss: 0.3998 - val_dense_2_acc: 0.9794 - val_dense_4_acc: 0.9485 - val_dense_6_acc: 0.8969 - val_dense_8_acc: 0.8608 - val_dense_10_acc: 0.8918\n",
      "Epoch 27/30\n",
      "776/776 [==============================] - 0s 634us/step - loss: 2.0046 - dense_2_loss: 0.3523 - dense_4_loss: 0.4173 - dense_6_loss: 0.3772 - dense_8_loss: 0.4178 - dense_10_loss: 0.4399 - dense_2_acc: 0.8711 - dense_4_acc: 0.8454 - dense_6_acc: 0.8686 - dense_8_acc: 0.8582 - dense_10_acc: 0.8415 - val_loss: 1.2744 - val_dense_2_loss: 0.0770 - val_dense_4_loss: 0.1498 - val_dense_6_loss: 0.2884 - val_dense_8_loss: 0.4849 - val_dense_10_loss: 0.2743 - val_dense_2_acc: 0.9691 - val_dense_4_acc: 0.9639 - val_dense_6_acc: 0.9175 - val_dense_8_acc: 0.8505 - val_dense_10_acc: 0.9175\n",
      "Epoch 28/30\n",
      "776/776 [==============================] - 1s 656us/step - loss: 1.8185 - dense_2_loss: 0.3175 - dense_4_loss: 0.3564 - dense_6_loss: 0.3564 - dense_8_loss: 0.3518 - dense_10_loss: 0.4363 - dense_2_acc: 0.8711 - dense_4_acc: 0.8582 - dense_6_acc: 0.8621 - dense_8_acc: 0.8724 - dense_10_acc: 0.8247 - val_loss: 1.3796 - val_dense_2_loss: 0.0729 - val_dense_4_loss: 0.1521 - val_dense_6_loss: 0.2750 - val_dense_8_loss: 0.4301 - val_dense_10_loss: 0.4496 - val_dense_2_acc: 0.9691 - val_dense_4_acc: 0.9485 - val_dense_6_acc: 0.9175 - val_dense_8_acc: 0.8763 - val_dense_10_acc: 0.8918\n"
     ]
    },
    {
     "name": "stdout",
     "output_type": "stream",
     "text": [
      "Epoch 29/30\n",
      "776/776 [==============================] - 0s 616us/step - loss: 1.7151 - dense_2_loss: 0.2910 - dense_4_loss: 0.3883 - dense_6_loss: 0.3328 - dense_8_loss: 0.3507 - dense_10_loss: 0.3522 - dense_2_acc: 0.8892 - dense_4_acc: 0.8544 - dense_6_acc: 0.9072 - dense_8_acc: 0.8905 - dense_10_acc: 0.8711 - val_loss: 1.3471 - val_dense_2_loss: 0.0407 - val_dense_4_loss: 0.1358 - val_dense_6_loss: 0.3524 - val_dense_8_loss: 0.4353 - val_dense_10_loss: 0.3829 - val_dense_2_acc: 0.9794 - val_dense_4_acc: 0.9639 - val_dense_6_acc: 0.9021 - val_dense_8_acc: 0.8763 - val_dense_10_acc: 0.8969\n",
      "Epoch 30/30\n",
      "776/776 [==============================] - 0s 633us/step - loss: 1.6093 - dense_2_loss: 0.2744 - dense_4_loss: 0.3702 - dense_6_loss: 0.3149 - dense_8_loss: 0.3179 - dense_10_loss: 0.3318 - dense_2_acc: 0.8930 - dense_4_acc: 0.8698 - dense_6_acc: 0.8840 - dense_8_acc: 0.8969 - dense_10_acc: 0.8776 - val_loss: 1.3484 - val_dense_2_loss: 0.0370 - val_dense_4_loss: 0.1480 - val_dense_6_loss: 0.3220 - val_dense_8_loss: 0.4103 - val_dense_10_loss: 0.4312 - val_dense_2_acc: 0.9897 - val_dense_4_acc: 0.9639 - val_dense_6_acc: 0.8918 - val_dense_8_acc: 0.8660 - val_dense_10_acc: 0.9124\n"
     ]
    }
   ],
   "source": [
    "#model = create_model()\n",
    "hist = model.fit(X_train, [y_train[0], y_train[1], y_train[2], y_train[3], y_train[4]], batch_size=30, epochs=30,verbose=1, validation_split=0.2)"
   ]
  },
  {
   "cell_type": "code",
   "execution_count": 9,
   "metadata": {
    "_uuid": "e2cf1d0b8ab4a293d3dc110eb85a0946333bb0b9"
   },
   "outputs": [],
   "source": [
    "# Function that predicts for custom input\n",
    "def predict(filepath):\n",
    "    img = cv2.imread(filepath, cv2.IMREAD_GRAYSCALE)\n",
    "    if img is not None:\n",
    "        img = img / 255.0\n",
    "    else:\n",
    "        print(\"Did not find the file\");\n",
    "    res = np.array(model.predict(img[np.newaxis, :, :, np.newaxis]))\n",
    "    ans = np.reshape(res, (5, 36))\n",
    "    l_ind = []\n",
    "    probs = []\n",
    "    for a in ans:\n",
    "        l_ind.append(np.argmax(a))\n",
    "\n",
    "    capt = ''\n",
    "    for l in l_ind:\n",
    "        capt += symbols[l]\n",
    "    return capt"
   ]
  },
  {
   "cell_type": "markdown",
   "metadata": {},
   "source": [
    "## Model Evaluation"
   ]
  },
  {
   "cell_type": "code",
   "execution_count": 10,
   "metadata": {
    "_uuid": "ed22f3a33792928c9f74601b264d269361755e0b"
   },
   "outputs": [
    {
     "name": "stdout",
     "output_type": "stream",
     "text": [
      "100/100 [==============================] - 0s 305us/step\n",
      "Test Loss and accuracy: [2.5575746440887452, 0.05938752988353371, 0.52319072291255, 0.4437353298207745, 0.9092988920211792, 0.6219622492790222, 0.99, 0.91, 0.91, 0.82, 0.84]\n"
     ]
    }
   ],
   "source": [
    "score= model.evaluate(X_test,[y_test[0], y_test[1], y_test[2], y_test[3], y_test[4]],verbose=1)\n",
    "print('Test Loss and accuracy:', score)"
   ]
  },
  {
   "cell_type": "code",
   "execution_count": 19,
   "metadata": {
    "_uuid": "1f7aa77001b1185404c45a928d2555c484c402b3"
   },
   "outputs": [
    {
     "data": {
      "text/plain": [
       "<matplotlib.image.AxesImage at 0x7f6e3aa7cbe0>"
      ]
     },
     "execution_count": 19,
     "metadata": {},
     "output_type": "execute_result"
    },
    {
     "data": {
      "image/png": "[encoded data removed]",
      "text/plain": [
       "<Figure size 432x288 with 1 Axes>"
      ]
     },
     "metadata": {},
     "output_type": "display_data"
    }
   ],
   "source": [
    "# Reading Captcha\n",
    "%matplotlib inline \n",
    "import matplotlib.pyplot as plt\n",
    "img=cv2.imread('../input/captcha/capthaimage/capthaimages/a.png',cv2.IMREAD_GRAYSCALE)\n",
    "plt.imshow(img, cmap=plt.get_cmap('gray'))"
   ]
  },
  {
   "cell_type": "code",
   "execution_count": 20,
   "metadata": {
    "_uuid": "c9ac975ea5aae3b03c23204d7e32a534c2db19d0"
   },
   "outputs": [
    {
     "name": "stdout",
     "output_type": "stream",
     "text": [
      "Predicted Captcha = 2cegf\n"
     ]
    }
   ],
   "source": [
    "# Prediction\n",
    "print(\"Predicted Captcha =\",predict('../Database/Data/Validate/0.png'))"
   ]
  },
  {
   "cell_type": "markdown",
   "metadata": {},
   "source": [
    "## Saving model for deployment "
   ]
  },
  {
   "cell_type": "code",
   "execution_count": null,
   "metadata": {},
   "outputs": [],
   "source": [
    "model.save('captca_rec_model.h5')"
   ]
  },
  {
   "cell_type": "markdown",
   "metadata": {},
   "source": [
    "## Loading Model"
   ]
  },
  {
   "cell_type": "code",
   "execution_count": 4,
   "metadata": {},
   "outputs": [],
   "source": [
    "from keras.models import load_model\n",
    "model = load_model('/home/maltesh/Maltesh/FYP/2021/Rak - Cap - Rec - FYP/Trained Model/captca_rec_model.h5')"
   ]
  },
  {
   "cell_type": "code",
   "execution_count": 5,
   "metadata": {},
   "outputs": [],
   "source": [
    "# Function that predicts for custom input\n",
    "def predict_(filepath):\n",
    "    img = cv2.imread(filepath, cv2.IMREAD_GRAYSCALE)\n",
    "    if img is not None:\n",
    "        img = img / 255.0\n",
    "    else:\n",
    "        print(\"Not detected\");\n",
    "    res = np.array(model.predict(img[np.newaxis, :, :, np.newaxis]))\n",
    "    ans = np.reshape(res, (5, 36))\n",
    "    l_ind = []\n",
    "    probs = []\n",
    "    for a in ans:\n",
    "        l_ind.append(np.argmax(a))\n",
    "\n",
    "    capt = ''\n",
    "    for l in l_ind:\n",
    "        capt += symbols[l]\n",
    "    return capt"
   ]
  },
  {
   "cell_type": "code",
   "execution_count": 26,
   "metadata": {},
   "outputs": [],
   "source": [
    "img_path = \"image.jpg\""
   ]
  },
  {
   "cell_type": "code",
   "execution_count": 27,
   "metadata": {},
   "outputs": [],
   "source": [
    "#Lets Predict By Model\n",
    "pred_captcha = predict_(img_path)"
   ]
  },
  {
   "cell_type": "code",
   "execution_count": 23,
   "metadata": {},
   "outputs": [
    {
     "data": {
      "text/plain": [
       "'3d7bd'"
      ]
     },
     "execution_count": 23,
     "metadata": {},
     "output_type": "execute_result"
    }
   ],
   "source": [
    "pred_captcha"
   ]
  },
  {
   "cell_type": "markdown",
   "metadata": {
    "_uuid": "1c7d6e4f3407125d1bb3425efeaf31522a579abb"
   },
   "source": [
    "--------------------------------------------------------------------------------------------"
   ]
  }
 ],
 "metadata": {
  "kernelspec": {
   "display_name": "Python 3",
   "language": "python",
   "name": "python3"
  },
  "language_info": {
   "codemirror_mode": {
    "name": "ipython",
    "version": 3
   },
   "file_extension": ".py",
   "mimetype": "text/x-python",
   "name": "python",
   "nbconvert_exporter": "python",
   "pygments_lexer": "ipython3",
   "version": "3.7.9"
  }
 },
 "nbformat": 4,
 "nbformat_minor": 1
}
